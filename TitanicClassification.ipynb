{
 "cells": [
  {
   "cell_type": "code",
   "execution_count": 38,
   "metadata": {},
   "outputs": [],
   "source": [
    "import pandas as pd\n",
    "import numpy as np\n",
    "import seaborn as sns\n",
    "import matplotlib.pyplot as plt\n",
    "from statannot import add_stat_annotation\n",
    "from sklearn import metrics\n",
    "from sklearn.pipeline import Pipeline\n",
    "from sklearn.linear_model import LogisticRegression\n",
    "from sklearn.preprocessing import LabelEncoder\n",
    "from sklearn.impute import SimpleImputer\n",
    "from sklearn.model_selection import train_test_split, cross_val_score\n",
    "from sklearn.naive_bayes import GaussianNB,CategoricalNB\n",
    "from sklearn.neighbors import KNeighborsClassifier,NeighborhoodComponentsAnalysis\n",
    "from sklearn.model_selection import GridSearchCV,StratifiedKFold,RandomizedSearchCV\n",
    "from sklearn.tree import DecisionTreeClassifier\n",
    "from sklearn import tree\n",
    "from sklearn.ensemble import RandomForestClassifier, ExtraTreesClassifier, AdaBoostClassifier, GradientBoostingClassifier, VotingClassifier\n",
    "from sklearn.inspection import permutation_importance\n",
    "from sklearn import svm\n",
    "from sklearn.neural_network import MLPClassifier\n",
    "from xgboost import XGBClassifier\n",
    "from scipy.stats import uniform, randint\n",
    "import xgboost\n",
    "import graphviz "
   ]
  },
  {
   "cell_type": "markdown",
   "metadata": {},
   "source": [
    "# Loading data"
   ]
  },
  {
   "cell_type": "code",
   "execution_count": 2,
   "metadata": {},
   "outputs": [],
   "source": [
    "train = pd.read_csv(\"train.csv\")\n",
    "test = pd.read_csv(\"test.csv\")\n",
    "meta = pd.read_csv(\"gender_submission.csv\")"
   ]
  },
  {
   "cell_type": "code",
   "execution_count": 3,
   "metadata": {},
   "outputs": [
    {
     "data": {
      "text/plain": [
       "Index(['PassengerId', 'Survived', 'Pclass', 'Name', 'Sex', 'Age', 'SibSp',\n",
       "       'Parch', 'Ticket', 'Fare', 'Cabin', 'Embarked'],\n",
       "      dtype='object')"
      ]
     },
     "execution_count": 3,
     "metadata": {},
     "output_type": "execute_result"
    }
   ],
   "source": [
    "train.columns"
   ]
  },
  {
   "cell_type": "markdown",
   "metadata": {},
   "source": [
    "# Preprocessing\n",
    "check the column with nan"
   ]
  },
  {
   "cell_type": "code",
   "execution_count": 4,
   "metadata": {},
   "outputs": [
    {
     "name": "stdout",
     "output_type": "stream",
     "text": [
      "['Age', 'Cabin', 'Embarked']\n",
      "['Age', 'Fare', 'Cabin']\n"
     ]
    }
   ],
   "source": [
    "print(train.columns[train.isna().any()].tolist())\n",
    "print(test.columns[test.isna().any()].tolist())"
   ]
  },
  {
   "cell_type": "code",
   "execution_count": 5,
   "metadata": {},
   "outputs": [],
   "source": [
    "#train = train[[\"Survived\",\"Pclass\",\"Sex\",\"SibSp\",\"Parch\",\"Fare\",\"Age\",\"Embarked\",\"Name\"]]\n",
    "#test = test[[\"Pclass\",\"Sex\",\"SibSp\",\"Parch\",\"Fare\",\"Age\",\"Embarked\",\"Name\"]]"
   ]
  },
  {
   "cell_type": "code",
   "execution_count": 6,
   "metadata": {},
   "outputs": [],
   "source": [
    "X = train[['PassengerId', 'Pclass', 'Name', 'Sex', 'Age', 'SibSp',\n",
    "       'Parch', 'Ticket', 'Fare', 'Cabin', 'Embarked']]\n",
    "y = train[\"Survived\"]\n",
    "X_train,X_val,y_train,y_val = train_test_split(X,y)"
   ]
  },
  {
   "cell_type": "code",
   "execution_count": 7,
   "metadata": {},
   "outputs": [
    {
     "data": {
      "text/plain": [
       "<bound method NDFrame.tail of      PassengerId  Pclass                            Name     Sex    Age  \\\n",
       "189          190       3             Turcin, Mr. Stjepan    male  36.00   \n",
       "666          667       2     Butler, Mr. Reginald Fenton    male  25.00   \n",
       "524          525       3               Kassem, Mr. Fared    male    NaN   \n",
       "305          306       1  Allison, Master. Hudson Trevor    male   0.92   \n",
       "812          813       2       Slemen, Mr. Richard James    male  35.00   \n",
       "..           ...     ...                             ...     ...    ...   \n",
       "61            62       1             Icard, Miss. Amelie  female  38.00   \n",
       "671          672       1          Davidson, Mr. Thornton    male  31.00   \n",
       "249          250       2   Carter, Rev. Ernest Courtenay    male  54.00   \n",
       "286          287       3         de Mulder, Mr. Theodore    male  30.00   \n",
       "592          593       3      Elsbury, Mr. William James    male  47.00   \n",
       "\n",
       "     SibSp  Parch      Ticket      Fare    Cabin Embarked  \n",
       "189      0      0      349247    7.8958      NaN        S  \n",
       "666      0      0      234686   13.0000      NaN        S  \n",
       "524      0      0        2700    7.2292      NaN        C  \n",
       "305      1      2      113781  151.5500  C22 C26        S  \n",
       "812      0      0       28206   10.5000      NaN        S  \n",
       "..     ...    ...         ...       ...      ...      ...  \n",
       "61       0      0      113572   80.0000      B28      NaN  \n",
       "671      1      0  F.C. 12750   52.0000      B71        S  \n",
       "249      1      0      244252   26.0000      NaN        S  \n",
       "286      0      0      345774    9.5000      NaN        S  \n",
       "592      0      0    A/5 3902    7.2500      NaN        S  \n",
       "\n",
       "[223 rows x 11 columns]>"
      ]
     },
     "execution_count": 7,
     "metadata": {},
     "output_type": "execute_result"
    }
   ],
   "source": [
    "X_val.tail"
   ]
  },
  {
   "cell_type": "code",
   "execution_count": 8,
   "metadata": {},
   "outputs": [
    {
     "name": "stderr",
     "output_type": "stream",
     "text": [
      "/Users/chaaya/miniconda/envs/MLbase/lib/python3.8/site-packages/pandas/core/indexing.py:844: SettingWithCopyWarning: \n",
      "A value is trying to be set on a copy of a slice from a DataFrame.\n",
      "Try using .loc[row_indexer,col_indexer] = value instead\n",
      "\n",
      "See the caveats in the documentation: https://pandas.pydata.org/pandas-docs/stable/user_guide/indexing.html#returning-a-view-versus-a-copy\n",
      "  self.obj[key] = _infer_fill_value(value)\n",
      "/Users/chaaya/miniconda/envs/MLbase/lib/python3.8/site-packages/pandas/core/indexing.py:964: SettingWithCopyWarning: \n",
      "A value is trying to be set on a copy of a slice from a DataFrame.\n",
      "Try using .loc[row_indexer,col_indexer] = value instead\n",
      "\n",
      "See the caveats in the documentation: https://pandas.pydata.org/pandas-docs/stable/user_guide/indexing.html#returning-a-view-versus-a-copy\n",
      "  self.obj[item] = s\n"
     ]
    }
   ],
   "source": [
    "X_train.loc[:,\"nMemb\"] = X_train.apply(lambda row: row.SibSp + row.Parch, axis=1)\n",
    "X_train.loc[:,\"Family\"] = np.where(X_train[\"nMemb\"] == 0, \"None\", np.where(X_train[\"nMemb\"] > 4, \"Big\", \"Small\"))\n",
    "X_train.loc[:,\"Title\"] = X_train.Name.str.split(\".\").str[0].str.split(\",\").str[1].str.strip()\n",
    "X_val.loc[:,\"nMemb\"] = X_val.apply(lambda row: row.SibSp + row.Parch, axis=1)\n",
    "X_val.loc[:,\"Family\"] = np.where(X_val[\"nMemb\"] == 0, \"None\", np.where(X_val[\"nMemb\"] > 4, \"Big\", \"Small\"))\n",
    "X_val.loc[:,\"Title\"] = X_val.Name.str.split(\".\").str[0].str.split(\",\").str[1].str.strip()\n",
    "X.loc[:,\"nMemb\"] = X.apply(lambda row: row.SibSp + row.Parch, axis=1)\n",
    "X.loc[:,\"Family\"] = np.where(X[\"nMemb\"] == 0, \"None\", np.where(X[\"nMemb\"] > 4, \"Big\", \"Small\"))\n",
    "X.loc[:,\"Title\"] = X.Name.str.split(\".\").str[0].str.split(\",\").str[1].str.strip()\n",
    "test[\"nMemb\"] = test.SibSp + test.Parch\n",
    "test[\"Family\"] = np.where(test[\"nMemb\"] == 0, \"None\", np.where(test[\"nMemb\"] > 4, \"Big\", \"Small\"))\n",
    "test[\"Title\"] = test.Name.str.split(\".\").str[0].str.split(\",\").str[1].str.strip()\n",
    "X_train.loc[:,\"logFare\"] = np.log(X_train.Fare+0.000001) \n",
    "X_val.loc[:,\"logFare\"] = np.log(X_val.Fare+0.000001) \n",
    "X.loc[:,\"logFare\"] = np.log(X.Fare+0.000001) \n",
    "test[\"logFare\"] = np.log(test.Fare+0.000001)"
   ]
  },
  {
   "cell_type": "code",
   "execution_count": 9,
   "metadata": {},
   "outputs": [
    {
     "name": "stderr",
     "output_type": "stream",
     "text": [
      "/Users/chaaya/miniconda/envs/MLbase/lib/python3.8/site-packages/pandas/core/indexing.py:964: SettingWithCopyWarning: \n",
      "A value is trying to be set on a copy of a slice from a DataFrame.\n",
      "Try using .loc[row_indexer,col_indexer] = value instead\n",
      "\n",
      "See the caveats in the documentation: https://pandas.pydata.org/pandas-docs/stable/user_guide/indexing.html#returning-a-view-versus-a-copy\n",
      "  self.obj[item] = s\n",
      "/Users/chaaya/miniconda/envs/MLbase/lib/python3.8/site-packages/pandas/core/indexing.py:964: SettingWithCopyWarning: \n",
      "A value is trying to be set on a copy of a slice from a DataFrame.\n",
      "Try using .loc[row_indexer,col_indexer] = value instead\n",
      "\n",
      "See the caveats in the documentation: https://pandas.pydata.org/pandas-docs/stable/user_guide/indexing.html#returning-a-view-versus-a-copy\n",
      "  self.obj[item] = s\n",
      "/Users/chaaya/miniconda/envs/MLbase/lib/python3.8/site-packages/pandas/core/indexing.py:964: SettingWithCopyWarning: \n",
      "A value is trying to be set on a copy of a slice from a DataFrame.\n",
      "Try using .loc[row_indexer,col_indexer] = value instead\n",
      "\n",
      "See the caveats in the documentation: https://pandas.pydata.org/pandas-docs/stable/user_guide/indexing.html#returning-a-view-versus-a-copy\n",
      "  self.obj[item] = s\n",
      "/Users/chaaya/miniconda/envs/MLbase/lib/python3.8/site-packages/pandas/core/indexing.py:964: SettingWithCopyWarning: \n",
      "A value is trying to be set on a copy of a slice from a DataFrame.\n",
      "Try using .loc[row_indexer,col_indexer] = value instead\n",
      "\n",
      "See the caveats in the documentation: https://pandas.pydata.org/pandas-docs/stable/user_guide/indexing.html#returning-a-view-versus-a-copy\n",
      "  self.obj[item] = s\n"
     ]
    }
   ],
   "source": [
    "imp_mean = SimpleImputer(missing_values=np.nan, strategy='mean')\n",
    "X_train.loc[:,\"Age\"] = imp_mean.fit_transform(X_train[\"Age\"].to_numpy().reshape(-1,1))[:,0]\n",
    "X_val.loc[:,\"Age\"] = imp_mean.fit_transform(X_val[\"Age\"].to_numpy().reshape(-1,1))[:,0]\n",
    "X.loc[:,\"Age\"] = imp_mean.fit_transform(X[\"Age\"].to_numpy().reshape(-1,1))[:,0]\n",
    "imp_mean = SimpleImputer(missing_values=np.nan, strategy='most_frequent')\n",
    "X_train.loc[:,\"Embarked\"] = imp_mean.fit_transform(X_train[\"Embarked\"].to_numpy().reshape(-1,1))[:,0]\n",
    "X_val.loc[:,\"Embarked\"] = imp_mean.fit_transform(X_val[\"Embarked\"].to_numpy().reshape(-1,1))[:,0]\n",
    "X.loc[:,\"Embarked\"] = imp_mean.fit_transform(X[\"Embarked\"].to_numpy().reshape(-1,1))[:,0]\n",
    "imp_mean = SimpleImputer(missing_values=np.nan, strategy='mean')\n",
    "test.loc[:,\"Age\"] = imp_mean.fit_transform(test[\"Age\"].to_numpy().reshape(-1,1))[:,0]\n",
    "test.loc[:,\"Fare\"] = imp_mean.fit_transform(test[\"Fare\"].to_numpy().reshape(-1,1))[:,0]"
   ]
  },
  {
   "cell_type": "code",
   "execution_count": 10,
   "metadata": {},
   "outputs": [
    {
     "name": "stderr",
     "output_type": "stream",
     "text": [
      "/Users/chaaya/miniconda/envs/MLbase/lib/python3.8/site-packages/pandas/core/indexing.py:844: SettingWithCopyWarning: \n",
      "A value is trying to be set on a copy of a slice from a DataFrame.\n",
      "Try using .loc[row_indexer,col_indexer] = value instead\n",
      "\n",
      "See the caveats in the documentation: https://pandas.pydata.org/pandas-docs/stable/user_guide/indexing.html#returning-a-view-versus-a-copy\n",
      "  self.obj[key] = _infer_fill_value(value)\n",
      "/Users/chaaya/miniconda/envs/MLbase/lib/python3.8/site-packages/pandas/core/indexing.py:964: SettingWithCopyWarning: \n",
      "A value is trying to be set on a copy of a slice from a DataFrame.\n",
      "Try using .loc[row_indexer,col_indexer] = value instead\n",
      "\n",
      "See the caveats in the documentation: https://pandas.pydata.org/pandas-docs/stable/user_guide/indexing.html#returning-a-view-versus-a-copy\n",
      "  self.obj[item] = s\n"
     ]
    }
   ],
   "source": [
    "le = LabelEncoder()\n",
    "X_train.loc[:,'TitleOHE'] = le.fit_transform(X_train.Title.values)\n",
    "X_train.loc[:,'SexOHE'] = le.fit_transform(X_train.Sex.values)\n",
    "X_train.loc[:,'EmbarkedOHE'] = le.fit_transform(X_train.Embarked.values)\n",
    "X_train.loc[:,'FamilyOHE'] = le.fit_transform(X_train.Family.values)\n",
    "X_val.loc[:,'TitleOHE'] = le.fit_transform(X_val.Title.values)\n",
    "X_val.loc[:,'SexOHE'] = le.fit_transform(X_val.Sex.values)\n",
    "X_val.loc[:,'EmbarkedOHE'] = le.fit_transform(X_val.Embarked.values)\n",
    "X_val.loc[:,'FamilyOHE'] = le.fit_transform(X_val.Family.values)\n",
    "X.loc[:,'TitleOHE'] = le.fit_transform(X.Title.values)\n",
    "X.loc[:,'SexOHE'] = le.fit_transform(X.Sex.values)\n",
    "X.loc[:,'EmbarkedOHE'] = le.fit_transform(X.Embarked.values)\n",
    "X.loc[:,'FamilyOHE'] = le.fit_transform(X.Family.values)\n",
    "test.loc[:,'TitleOHE'] = le.fit_transform(test.Title.values)\n",
    "test.loc[:,'SexOHE'] = le.fit_transform(test.Sex.values)\n",
    "test.loc[:,'EmbarkedOHE'] = le.fit_transform(test.Embarked.values)\n",
    "test.loc[:,'FamilyOHE'] = le.fit_transform(test.Family.values)"
   ]
  },
  {
   "cell_type": "code",
   "execution_count": 11,
   "metadata": {},
   "outputs": [],
   "source": [
    "X_train = X_train[[\"Fare\",\"Age\",\"Pclass\",\"TitleOHE\",\"SibSp\",\"SexOHE\",\"EmbarkedOHE\",\"FamilyOHE\"]]\n",
    "X_val = X_val[[\"Fare\",\"Age\",\"Pclass\",\"TitleOHE\",\"SibSp\",\"SexOHE\",\"EmbarkedOHE\",\"FamilyOHE\"]]\n",
    "X = X[[\"Fare\",\"Age\",\"Pclass\",\"TitleOHE\",\"SibSp\",\"SexOHE\",\"EmbarkedOHE\",\"FamilyOHE\"]]"
   ]
  },
  {
   "cell_type": "code",
   "execution_count": 12,
   "metadata": {},
   "outputs": [],
   "source": [
    "results = {}"
   ]
  },
  {
   "cell_type": "markdown",
   "metadata": {},
   "source": [
    "# Logistic Regression"
   ]
  },
  {
   "cell_type": "markdown",
   "metadata": {},
   "source": [
    "The following code simply build a logistic regression with an l2 regularization"
   ]
  },
  {
   "cell_type": "code",
   "execution_count": 13,
   "metadata": {},
   "outputs": [
    {
     "name": "stdout",
     "output_type": "stream",
     "text": [
      "Logistic Regression accuracy: 0.80 (+/- 0.02)\n"
     ]
    }
   ],
   "source": [
    "lrm = LogisticRegression(random_state=0,penalty=\"l2\",max_iter=10000)\n",
    "lrm_scores = cross_val_score(lrm, X, y, cv=5)\n",
    "print(\"Logistic Regression accuracy: %0.2f (+/- %0.2f)\" % (lrm_scores.mean(), lrm_scores.std() * 2))\n",
    "results[\"lrm\"] = lrm_scores"
   ]
  },
  {
   "cell_type": "markdown",
   "metadata": {},
   "source": [
    "# Naive Bayes"
   ]
  },
  {
   "cell_type": "markdown",
   "metadata": {},
   "source": [
    "Gaussian Naive Bayes method applciation assuming the stretched hypothesis that the feature are independent, which is not true. Consider for instance, the class and the fare."
   ]
  },
  {
   "cell_type": "code",
   "execution_count": 14,
   "metadata": {},
   "outputs": [
    {
     "name": "stdout",
     "output_type": "stream",
     "text": [
      "Logistic Regression accuracy: 0.79 (+/- 0.03)\n"
     ]
    }
   ],
   "source": [
    "nb_gaussian = GaussianNB()\n",
    "nb_gaussian_scores = cross_val_score(nb_gaussian, X, y, cv=5)\n",
    "print(\"Logistic Regression accuracy: %0.2f (+/- %0.2f)\" % (nb_gaussian_scores.mean(), nb_gaussian_scores.std() * 2))\n",
    "results[\"nbg\"] = nb_gaussian_scores"
   ]
  },
  {
   "cell_type": "markdown",
   "metadata": {},
   "source": [
    "# Nearest Neighbors"
   ]
  },
  {
   "cell_type": "markdown",
   "metadata": {},
   "source": [
    "Applying the KNN algorithm. Best results were obtained using k=8"
   ]
  },
  {
   "cell_type": "code",
   "execution_count": 15,
   "metadata": {},
   "outputs": [
    {
     "name": "stdout",
     "output_type": "stream",
     "text": [
      "K-NN 1 : 0.69 (+/- 0.06)\n",
      "K-NN 2 : 0.68 (+/- 0.04)\n",
      "K-NN 3 : 0.71 (+/- 0.04)\n",
      "K-NN 4 : 0.70 (+/- 0.03)\n",
      "K-NN 5 : 0.70 (+/- 0.06)\n",
      "K-NN 6 : 0.69 (+/- 0.06)\n",
      "K-NN 7 : 0.71 (+/- 0.08)\n",
      "K-NN 8 : 0.71 (+/- 0.05)\n",
      "K-NN 9 : 0.71 (+/- 0.07)\n",
      "K-NN 10 : 0.71 (+/- 0.06)\n",
      "K-NN 11 : 0.71 (+/- 0.06)\n",
      "K-NN 12 : 0.71 (+/- 0.08)\n",
      "K-NN 13 : 0.71 (+/- 0.09)\n",
      "K-NN 14 : 0.70 (+/- 0.08)\n",
      "K-NN 15 : 0.71 (+/- 0.08)\n",
      "K-NN 16 : 0.71 (+/- 0.11)\n",
      "K-NN 17 : 0.71 (+/- 0.11)\n",
      "K-NN 18 : 0.70 (+/- 0.13)\n",
      "K-NN 19 : 0.71 (+/- 0.11)\n"
     ]
    }
   ],
   "source": [
    "knn_scores={}\n",
    "for k in range(1,20):\n",
    "    knn = KNeighborsClassifier(n_neighbors=k)\n",
    "    knn_score = cross_val_score(knn, X, y, cv=5)\n",
    "    print(\"K-NN\",k,\": %0.2f (+/- %0.2f)\" % (knn_score.mean(), knn_score.std() * 2))\n",
    "    knn_scores[k] = knn_score"
   ]
  },
  {
   "cell_type": "code",
   "execution_count": 16,
   "metadata": {},
   "outputs": [],
   "source": [
    "def highestScore(scores):\n",
    "    mean = 0\n",
    "    std = 1000\n",
    "    k_max = 0\n",
    "    max = None\n",
    "    for k,val in scores.items():\n",
    "        if (val.mean() > mean):\n",
    "            k_max = k\n",
    "            mean = val.mean()\n",
    "            std = val.std()\n",
    "            max = val\n",
    "    return k_max,max\n",
    "results[\"KNN\"]=highestScore(knn_scores)[1]"
   ]
  },
  {
   "cell_type": "markdown",
   "metadata": {},
   "source": [
    "Linear transform data to maximize the LOO results."
   ]
  },
  {
   "cell_type": "code",
   "execution_count": 17,
   "metadata": {
    "scrolled": true
   },
   "outputs": [
    {
     "name": "stdout",
     "output_type": "stream",
     "text": [
      "K-NN nca 1 : 0.70 (+/- 0.10)\n",
      "K-NN nca 2 : 0.70 (+/- 0.07)\n",
      "K-NN nca 3 : 0.72 (+/- 0.06)\n",
      "K-NN nca 4 : 0.72 (+/- 0.06)\n",
      "K-NN nca 5 : 0.71 (+/- 0.08)\n",
      "K-NN nca 6 : 0.72 (+/- 0.07)\n",
      "K-NN nca 7 : 0.73 (+/- 0.09)\n",
      "K-NN nca 8 : 0.72 (+/- 0.10)\n",
      "K-NN nca 9 : 0.72 (+/- 0.09)\n",
      "K-NN nca 10 : 0.71 (+/- 0.10)\n",
      "K-NN nca 11 : 0.71 (+/- 0.11)\n",
      "K-NN nca 12 : 0.71 (+/- 0.10)\n",
      "K-NN nca 13 : 0.71 (+/- 0.10)\n",
      "K-NN nca 14 : 0.70 (+/- 0.10)\n",
      "K-NN nca 15 : 0.71 (+/- 0.10)\n",
      "K-NN nca 16 : 0.69 (+/- 0.10)\n",
      "K-NN nca 17 : 0.70 (+/- 0.11)\n",
      "K-NN nca 18 : 0.69 (+/- 0.13)\n",
      "K-NN nca 19 : 0.70 (+/- 0.12)\n"
     ]
    }
   ],
   "source": [
    "nca = NeighborhoodComponentsAnalysis(random_state=42)\n",
    "knn_scores={}\n",
    "for k in range(1,20):\n",
    "    knn = KNeighborsClassifier(n_neighbors=k)\n",
    "    nca_pipe = Pipeline([('nca', nca), ('knn', knn)])\n",
    "    knn_score = cross_val_score(nca_pipe, X, y, cv=5)\n",
    "    print(\"K-NN nca\",k,\": %0.2f (+/- %0.2f)\" % (knn_score.mean(), knn_score.std() * 2))\n",
    "    knn_scores[k] = knn_score\n",
    "results[\"KNNnca\"]=highestScore(knn_scores)[1]"
   ]
  },
  {
   "cell_type": "code",
   "execution_count": 18,
   "metadata": {},
   "outputs": [
    {
     "data": {
      "text/plain": [
       "{'lrm': array([0.79329609, 0.80337079, 0.79213483, 0.80337079, 0.81460674]),\n",
       " 'nbg': array([0.77094972, 0.78651685, 0.79213483, 0.81460674, 0.80898876]),\n",
       " 'KNN': array([0.65921788, 0.69101124, 0.70786517, 0.76404494, 0.75280899]),\n",
       " 'KNNnca': array([0.65363128, 0.71348315, 0.7247191 , 0.75842697, 0.78089888])}"
      ]
     },
     "execution_count": 18,
     "metadata": {},
     "output_type": "execute_result"
    }
   ],
   "source": [
    "results"
   ]
  },
  {
   "cell_type": "markdown",
   "metadata": {},
   "source": [
    "## Decision Tree"
   ]
  },
  {
   "cell_type": "markdown",
   "metadata": {},
   "source": [
    "Testing decision trees using two difference criterion for the selection of the best split: GINI index and entropy. No major differences were observed between them."
   ]
  },
  {
   "cell_type": "code",
   "execution_count": 19,
   "metadata": {},
   "outputs": [
    {
     "name": "stdout",
     "output_type": "stream",
     "text": [
      "Decistion Tree entropy index accuracy: 0.78 (+/- 0.03)\n",
      "Decistion Tree GINI index accuracy: 0.77 (+/- 0.05)\n"
     ]
    }
   ],
   "source": [
    "DT = DecisionTreeClassifier(criterion=\"entropy\",random_state=0).fit(X_train,y_train)\n",
    "DT_scores = cross_val_score(DT, X, y, cv=5)\n",
    "print(\"Decistion Tree entropy index accuracy: %0.2f (+/- %0.2f)\" % (DT_scores.mean(), DT_scores.std() * 2))\n",
    "DT = DecisionTreeClassifier(criterion=\"gini\",random_state=0).fit(X_train,y_train)\n",
    "DT_scores = cross_val_score(DT, X, y, cv=5)\n",
    "print(\"Decistion Tree GINI index accuracy: %0.2f (+/- %0.2f)\" % (DT_scores.mean(), DT_scores.std() * 2))"
   ]
  },
  {
   "cell_type": "markdown",
   "metadata": {},
   "source": [
    "Since decision tree are highly affected by pruning. Let's see if we can improve classification considering less leaves and deciding the depth of the tree. In order to decide the number of leaves too prune, I used the cost complexity pruning criteria which is implemented in scikit learn. This method is based on the complexity parameter alpha: for each alpha the algorithm find the subtree which minimize the cost complexity measure (for more info: https://scikit-learn.org/stable/modules/tree.html)"
   ]
  },
  {
   "cell_type": "code",
   "execution_count": 20,
   "metadata": {},
   "outputs": [
    {
     "data": {
      "text/plain": [
       "Text(0.5, 1.0, 'Total Impurity vs effective alpha for training set')"
      ]
     },
     "execution_count": 20,
     "metadata": {},
     "output_type": "execute_result"
    },
    {
     "data": {
      "image/png": "[encoded data removed]",
      "text/plain": [
       "<Figure size 432x288 with 1 Axes>"
      ]
     },
     "metadata": {
      "needs_background": "light"
     },
     "output_type": "display_data"
    }
   ],
   "source": [
    "path = DT.cost_complexity_pruning_path(X_train, y_train)\n",
    "ccp_alphas, impurities = path.ccp_alphas, path.impurities\n",
    "fig, ax = plt.subplots()\n",
    "ax.plot(ccp_alphas[:-1], impurities[:-1], marker='o', drawstyle=\"steps-post\")\n",
    "ax.set_xlabel(\"effective alpha\")\n",
    "ax.set_ylabel(\"total impurity of leaves\")\n",
    "ax.set_title(\"Total Impurity vs effective alpha for training set\")"
   ]
  },
  {
   "cell_type": "code",
   "execution_count": 21,
   "metadata": {},
   "outputs": [
    {
     "name": "stdout",
     "output_type": "stream",
     "text": [
      "Number of nodes in the last tree is: 3 with ccp_alpha: 0.1304370657471003\n"
     ]
    }
   ],
   "source": [
    "DTs = []\n",
    "for ccp_alpha in ccp_alphas:\n",
    "    DT = DecisionTreeClassifier(random_state=0, ccp_alpha=ccp_alpha, criterion=\"entropy\").fit(X_train, y_train)\n",
    "    DTs.append(DT)\n",
    "print(\"Number of nodes in the last tree is: {} with ccp_alpha: {}\".format(\n",
    "      DTs[-1].tree_.node_count, ccp_alphas[-1]))"
   ]
  },
  {
   "cell_type": "code",
   "execution_count": 22,
   "metadata": {},
   "outputs": [
    {
     "data": {
      "image/png": "[encoded data removed]",
      "text/plain": [
       "<Figure size 432x288 with 2 Axes>"
      ]
     },
     "metadata": {
      "needs_background": "light"
     },
     "output_type": "display_data"
    }
   ],
   "source": [
    "ccp_alphas = ccp_alphas\n",
    "\n",
    "node_counts = [DT.tree_.node_count for DT in DTs]\n",
    "depth = [DT.tree_.max_depth for DT in DTs]\n",
    "fig, ax = plt.subplots(2, 1)\n",
    "ax[0].plot(ccp_alphas, node_counts, marker='o', drawstyle=\"steps-post\")\n",
    "ax[0].set_xlabel(\"alpha\")\n",
    "ax[0].set_ylabel(\"number of nodes\")\n",
    "ax[0].set_title(\"Number of nodes vs alpha\")\n",
    "ax[1].plot(ccp_alphas, depth, marker='o', drawstyle=\"steps-post\")\n",
    "ax[1].set_xlabel(\"alpha\")\n",
    "ax[1].set_ylabel(\"depth of tree\")\n",
    "ax[1].set_title(\"Depth vs alpha\")\n",
    "fig.tight_layout()"
   ]
  },
  {
   "cell_type": "code",
   "execution_count": 23,
   "metadata": {},
   "outputs": [
    {
     "name": "stderr",
     "output_type": "stream",
     "text": [
      "No handles with labels found to put in legend.\n"
     ]
    },
    {
     "data": {
      "image/png": "[encoded data removed]",
      "text/plain": [
       "<Figure size 432x288 with 1 Axes>"
      ]
     },
     "metadata": {
      "needs_background": "light"
     },
     "output_type": "display_data"
    }
   ],
   "source": [
    "DT_scores = {DT.ccp_alpha:cross_val_score(DT,X, y,cv=5) for DT in DTs}\n",
    "\n",
    "fig, ax = plt.subplots()\n",
    "ax.set_xlabel(\"alpha\")\n",
    "ax.set_ylabel(\"accuracy\")\n",
    "ax.set_title(\"Accuracy vs alpha for training and validation sets\")\n",
    "ax.plot(list(DT_scores.keys()), [array.mean() for array in DT_scores.values()], marker='o',\n",
    "        drawstyle=\"steps-post\")\n",
    "ax.legend()\n",
    "plt.show()"
   ]
  },
  {
   "cell_type": "markdown",
   "metadata": {},
   "source": [
    "Best results were obtained having an alpha score of 0.003"
   ]
  },
  {
   "cell_type": "code",
   "execution_count": 24,
   "metadata": {},
   "outputs": [
    {
     "name": "stdout",
     "output_type": "stream",
     "text": [
      "Decistion Tree entropy index accuracy: 0.82 (+/- 0.04)\n"
     ]
    }
   ],
   "source": [
    "DT = DecisionTreeClassifier(random_state=0, ccp_alpha=highestScore(DT_scores)[0], criterion=\"entropy\")\n",
    "DT_scores = cross_val_score(DT,X, y,cv=5)\n",
    "print(\"Decistion Tree entropy accuracy: %0.2f (+/- %0.2f)\" % (DT_scores.mean(), DT_scores.std() * 2))\n",
    "results[\"DT\"]=DT_scores"
   ]
  },
  {
   "cell_type": "markdown",
   "metadata": {},
   "source": [
    "## Random Forest"
   ]
  },
  {
   "cell_type": "markdown",
   "metadata": {},
   "source": [
    "Using Random Forest as next step after Decision Trees"
   ]
  },
  {
   "cell_type": "code",
   "execution_count": 25,
   "metadata": {},
   "outputs": [
    {
     "name": "stdout",
     "output_type": "stream",
     "text": [
      "Decistion Tree entropy index accuracy: 0.80 (+/- 0.06)\n"
     ]
    }
   ],
   "source": [
    "RF = RandomForestClassifier(n_estimators=10000,random_state=0)\n",
    "RF_scores = cross_val_score(RF,X, y,cv=5)\n",
    "print(\"Decistion Tree entropy accuracy: %0.2f (+/- %0.2f)\" % (RF_scores.mean(), RF_scores.std() * 2))\n",
    "results[\"RF\"]=RF_scores"
   ]
  },
  {
   "cell_type": "markdown",
   "metadata": {},
   "source": [
    "Feature extraction using Gini Importance"
   ]
  },
  {
   "cell_type": "code",
   "execution_count": 26,
   "metadata": {},
   "outputs": [
    {
     "name": "stderr",
     "output_type": "stream",
     "text": [
      "No handles with labels found to put in legend.\n"
     ]
    },
    {
     "data": {
      "image/png": "[encoded data removed]",
      "text/plain": [
       "<Figure size 432x288 with 1 Axes>"
      ]
     },
     "metadata": {
      "needs_background": "light"
     },
     "output_type": "display_data"
    }
   ],
   "source": [
    "RF = RandomForestClassifier(n_estimators=10000,random_state=0).fit(X,y)\n",
    "feature_imp = pd.Series(RF.feature_importances_,index=X_train.columns).sort_values(ascending=False)\n",
    "%matplotlib inline\n",
    "# Creating a bar plot\n",
    "sns.barplot(x=feature_imp, y=feature_imp.index)\n",
    "# Add labels to your graph\n",
    "plt.xlabel('Feature Importance Score')\n",
    "plt.ylabel('Features')\n",
    "plt.title(\"Visualizing Important Features\")\n",
    "plt.legend()\n",
    "plt.show()"
   ]
  },
  {
   "cell_type": "markdown",
   "metadata": {},
   "source": [
    "Feature importance using the more robust mean decrease accuracy method which is permutation based"
   ]
  },
  {
   "cell_type": "code",
   "execution_count": 27,
   "metadata": {},
   "outputs": [
    {
     "data": {
      "image/png": "[encoded data removed]",
      "text/plain": [
       "<Figure size 432x288 with 1 Axes>"
      ]
     },
     "metadata": {
      "needs_background": "light"
     },
     "output_type": "display_data"
    }
   ],
   "source": [
    "result = permutation_importance(RF, X, y, n_repeats=10,\n",
    "                                random_state=42, n_jobs=2)\n",
    "sorted_idx = result.importances_mean.argsort()\n",
    "\n",
    "fig, ax = plt.subplots()\n",
    "ax.boxplot(result.importances[sorted_idx].T,\n",
    "           vert=False, labels=X_val.columns[sorted_idx])\n",
    "ax.set_title(\"Permutation Importances (test set)\")\n",
    "fig.tight_layout()\n",
    "plt.show()"
   ]
  },
  {
   "cell_type": "code",
   "execution_count": 31,
   "metadata": {},
   "outputs": [],
   "source": [
    "# removing low importance features\n",
    "X_red = X[[\"Fare\",\"Age\",\"Pclass\",\"SexOHE\"]]"
   ]
  },
  {
   "cell_type": "code",
   "execution_count": 32,
   "metadata": {},
   "outputs": [
    {
     "name": "stdout",
     "output_type": "stream",
     "text": [
      "Random Forest entropy accuracy: 0.82 (+/- 0.05)\n"
     ]
    }
   ],
   "source": [
    "RF = RandomForestClassifier(n_estimators=10000,random_state=0)\n",
    "RF_scores = cross_val_score(RF,X_red, y,cv=5)\n",
    "print(\"Random Forest entropy accuracy: %0.2f (+/- %0.2f)\" % (RF_scores.mean(), RF_scores.std() * 2))"
   ]
  },
  {
   "cell_type": "code",
   "execution_count": 33,
   "metadata": {},
   "outputs": [
    {
     "name": "stdout",
     "output_type": "stream",
     "text": [
      "Extra Trees entropy accuracy: 0.80 (+/- 0.07)\n"
     ]
    }
   ],
   "source": [
    "ER = ExtraTreesClassifier(n_estimators=100000,random_state=0).fit(X,y)\n",
    "ER_scores = cross_val_score(ER,X, y,cv=5)\n",
    "print(\"Extra Trees entropy accuracy: %0.2f (+/- %0.2f)\" % (ER_scores.mean(), ER_scores.std() * 2))\n",
    "results[\"ET\"]=ER_scores"
   ]
  },
  {
   "cell_type": "markdown",
   "metadata": {},
   "source": [
    "## Support Vector Machine"
   ]
  },
  {
   "cell_type": "code",
   "execution_count": 34,
   "metadata": {},
   "outputs": [
    {
     "name": "stdout",
     "output_type": "stream",
     "text": [
      "SVM with linear kernel accuracy: 0.79 (+/- 0.03)\n"
     ]
    }
   ],
   "source": [
    "SVM = svm.SVC(kernel=\"linear\")\n",
    "SVM_scores = cross_val_score(SVM,X, y,cv=5)\n",
    "print(\"SVM with linear kernel accuracy: %0.2f (+/- %0.2f)\" % (SVM_scores.mean(), SVM_scores.std() * 2))\n",
    "results[\"SVMlinear\"]=SVM_scores"
   ]
  },
  {
   "cell_type": "code",
   "execution_count": 35,
   "metadata": {},
   "outputs": [
    {
     "name": "stdout",
     "output_type": "stream",
     "text": [
      "SVM with rbf kernel accuracy: 0.67 (+/- 0.09)\n"
     ]
    }
   ],
   "source": [
    "SVM = svm.SVC(kernel=\"rbf\")\n",
    "SVM_scores = cross_val_score(SVM,X, y,cv=5)\n",
    "print(\"SVM with rbf kernel accuracy: %0.2f (+/- %0.2f)\" % (SVM_scores.mean(), SVM_scores.std() * 2))\n",
    "results[\"SVMrbf\"]=SVM_scores"
   ]
  },
  {
   "cell_type": "markdown",
   "metadata": {},
   "source": [
    "## AdaBoost"
   ]
  },
  {
   "cell_type": "code",
   "execution_count": 36,
   "metadata": {},
   "outputs": [
    {
     "name": "stdout",
     "output_type": "stream",
     "text": [
      "Ada Boost accuracy: 0.82 (+/- 0.05)\n"
     ]
    }
   ],
   "source": [
    "AB = AdaBoostClassifier(n_estimators=1000, random_state=0)\n",
    "AB_scores = cross_val_score(AB,X, y,cv=5)\n",
    "print(\"Ada Boost accuracy: %0.2f (+/- %0.2f)\" % (AB_scores.mean(), AB_scores.std() * 2))\n",
    "results[\"AB\"]=AB_scores"
   ]
  },
  {
   "cell_type": "markdown",
   "metadata": {},
   "source": [
    "## XGboost with grid search"
   ]
  },
  {
   "cell_type": "code",
   "execution_count": 39,
   "metadata": {},
   "outputs": [],
   "source": [
    "num_round = 1000\n",
    "dtrain = xgboost.DMatrix(X_train, label=y_train)\n",
    "dval = xgboost.DMatrix(X_val, label=y_val)"
   ]
  },
  {
   "cell_type": "code",
   "execution_count": 40,
   "metadata": {},
   "outputs": [
    {
     "name": "stdout",
     "output_type": "stream",
     "text": [
      "XGBoost accuracy: 0.82 (+/- 0.05)\n"
     ]
    }
   ],
   "source": [
    "XGB = XGBClassifier(n_estimators=1000,random_state=0)\n",
    "XGB_scores = cross_val_score(XGB,X, y,cv=5)\n",
    "print(\"XGBoost accuracy: %0.2f (+/- %0.2f)\" % (XGB_scores.mean(), XGB_scores.std() * 2))\n",
    "results[\"XGB\"]=XGB_scores"
   ]
  },
  {
   "cell_type": "markdown",
   "metadata": {},
   "source": [
    "Tuning parameters"
   ]
  },
  {
   "cell_type": "code",
   "execution_count": 41,
   "metadata": {},
   "outputs": [],
   "source": [
    "def report_best_scores(results, n_top=3):\n",
    "    for i in range(1, n_top + 1):\n",
    "        candidates = np.flatnonzero(results['rank_test_score'] == i)\n",
    "        for candidate in candidates:\n",
    "            print(\"Model with rank: {0}\".format(i))\n",
    "            print(\"Mean validation score: {0:.3f} (std: {1:.3f})\".format(\n",
    "                  results['mean_test_score'][candidate],\n",
    "                  results['std_test_score'][candidate]))\n",
    "            print(\"Parameters: {0}\".format(results['params'][candidate]))\n",
    "            print(\"\")"
   ]
  },
  {
   "cell_type": "code",
   "execution_count": 43,
   "metadata": {},
   "outputs": [
    {
     "name": "stdout",
     "output_type": "stream",
     "text": [
      "Fitting 3 folds for each of 200 candidates, totalling 600 fits\n"
     ]
    },
    {
     "name": "stderr",
     "output_type": "stream",
     "text": [
      "[Parallel(n_jobs=1)]: Using backend SequentialBackend with 1 concurrent workers.\n"
     ]
    },
    {
     "name": "stdout",
     "output_type": "stream",
     "text": [
      "Model with rank: 1\n",
      "Mean validation score: 0.820 (std: 0.010)\n",
      "Parameters: {'colsample_bytree': 0.8709669054613949, 'gamma': 0.38122934287034527, 'learning_rate': 0.29302969102852483, 'max_depth': 2, 'n_estimators': 137, 'subsample': 0.8145925405938379}\n",
      "\n"
     ]
    },
    {
     "name": "stderr",
     "output_type": "stream",
     "text": [
      "[Parallel(n_jobs=1)]: Done 600 out of 600 | elapsed:   26.3s finished\n"
     ]
    }
   ],
   "source": [
    "XGB = xgboost.XGBClassifier(booster=\"gbtree\")\n",
    "\n",
    "params = {\n",
    "    \"colsample_bytree\": uniform(0.7, 0.3),\n",
    "    \"gamma\": uniform(0, 0.5),\n",
    "    \"learning_rate\": uniform(0.03, 0.3), # default 0.1 \n",
    "    \"max_depth\": randint(2, 6), # default 3\n",
    "    \"n_estimators\": randint(100, 150), # default 100\n",
    "    \"subsample\": uniform(0.6, 0.4)\n",
    "}\n",
    "\n",
    "search = RandomizedSearchCV(XGB, param_distributions=params, random_state=42, n_iter=200, cv=3, verbose=1, n_jobs=1, return_train_score=True)\n",
    "\n",
    "search.fit(X_train, y_train)\n",
    "\n",
    "report_best_scores(search.cv_results_, 1)"
   ]
  },
  {
   "cell_type": "code",
   "execution_count": 44,
   "metadata": {},
   "outputs": [],
   "source": [
    "cv_results = search.cv_results_\n",
    "idx = np.flatnonzero(search.cv_results_['rank_test_score'] == 1)\n",
    "params = cv_results['params'][int(idx)]"
   ]
  },
  {
   "cell_type": "code",
   "execution_count": 45,
   "metadata": {},
   "outputs": [
    {
     "name": "stdout",
     "output_type": "stream",
     "text": [
      "XGBoost accuracy: 0.83 (+/- 0.05)\n"
     ]
    }
   ],
   "source": [
    "XGB = XGBClassifier(booster=\"gbtree\",\n",
    "                    colsample_bytree = params[\"colsample_bytree\"],\n",
    "                    n_estimators=params[\"n_estimators\"],max_depth=params[\"max_depth\"],\n",
    "                    subsample=params[\"subsample\"],gamma=params[\"gamma\"],\n",
    "                    learning_rate=params[\"learning_rate\"],random_state=0)\n",
    "XGB_scores = cross_val_score(XGB,X, y,cv=5)\n",
    "print(\"XGBoost accuracy: %0.2f (+/- %0.2f)\" % (XGB_scores.mean(), XGB_scores.std() * 2))\n",
    "results[\"XGB\"]=XGB_scores"
   ]
  },
  {
   "cell_type": "markdown",
   "metadata": {},
   "source": [
    "## Voting Classifier"
   ]
  },
  {
   "cell_type": "code",
   "execution_count": 48,
   "metadata": {},
   "outputs": [
    {
     "name": "stdout",
     "output_type": "stream",
     "text": [
      "lrm 0.8013558470905782 0.008169369496848525\n",
      "nbg 0.7946393823363254 0.015735618849680742\n",
      "KNN 0.7149896428347248 0.03891770153927944\n",
      "KNNnca 0.7262318749607684 0.043498664808431356\n",
      "DT 0.8237963718536188 0.018634593851450033\n",
      "RF 0.8047203565375682 0.03039421138886655\n",
      "ET 0.7968614650681062 0.03280662748817314\n",
      "SVMlinear 0.7912309334002888 0.015009764319191763\n",
      "SVMrbf 0.6723808925993346 0.046695487661212016\n",
      "AB 0.817079907099366 0.026573064680987322\n",
      "XGB 0.8339150084740444 0.024094975627904865\n"
     ]
    }
   ],
   "source": [
    "for i,j in results.items():\n",
    "    print(i,j.mean(),j.std())"
   ]
  },
  {
   "cell_type": "code",
   "execution_count": 59,
   "metadata": {},
   "outputs": [
    {
     "name": "stdout",
     "output_type": "stream",
     "text": [
      "Voting accuracy: 0.83 (+/- 0.03)\n"
     ]
    }
   ],
   "source": [
    "vc = VotingClassifier(estimators=[('lrm', lrm),(\"RF\",RF),(\"DT\",DT),(\"AB\",AB),(\"XGB\",XGB)],voting='soft')\n",
    "vc_scores = cross_val_score(vc,X, y,cv=5)\n",
    "print(\"Voting accuracy: %0.2f (+/- %0.2f)\" % (vc_scores.mean(), vc_scores.std() * 2))\n",
    "results[\"VC\"]=vc_scores"
   ]
  },
  {
   "cell_type": "code",
   "execution_count": 66,
   "metadata": {},
   "outputs": [],
   "source": [
    "vc = VotingClassifier(estimators=[('lrm', lrm),(\"RF\",RF),(\"DT\",DT),(\"AB\",AB),(\"XGB\",XGB)],voting='hard').fit(X,y)\n",
    "X_test = test[[\"Fare\",\"Age\",\"Pclass\",\"TitleOHE\",\"SibSp\",\"SexOHE\",\"EmbarkedOHE\",\"FamilyOHE\"]]\n",
    "y_pred = vc.predict(X_test)"
   ]
  },
  {
   "cell_type": "code",
   "execution_count": 67,
   "metadata": {},
   "outputs": [],
   "source": [
    "predictions_df = pd.DataFrame(test[\"PassengerId\"])\n",
    "predictions_df[\"Survived\"] = y_pred\n",
    "predictions_df.to_csv('./titanic_prediction.csv', index=False)"
   ]
  },
  {
   "cell_type": "code",
   "execution_count": 68,
   "metadata": {},
   "outputs": [
    {
     "data": {
      "text/plain": [
       "{'lrm': array([0.79329609, 0.80337079, 0.79213483, 0.80337079, 0.81460674]),\n",
       " 'nbg': array([0.77094972, 0.78651685, 0.79213483, 0.81460674, 0.80898876]),\n",
       " 'KNN': array([0.65921788, 0.69101124, 0.70786517, 0.76404494, 0.75280899]),\n",
       " 'KNNnca': array([0.65363128, 0.71348315, 0.7247191 , 0.75842697, 0.78089888]),\n",
       " 'DT': array([0.82122905, 0.81460674, 0.83146067, 0.79775281, 0.85393258]),\n",
       " 'RF': array([0.79888268, 0.80337079, 0.84269663, 0.75280899, 0.8258427 ]),\n",
       " 'ET': array([0.79329609, 0.76404494, 0.83707865, 0.75842697, 0.83146067]),\n",
       " 'SVMlinear': array([0.80446927, 0.79775281, 0.78651685, 0.76404494, 0.80337079]),\n",
       " 'SVMrbf': array([0.58100559, 0.71348315, 0.69101124, 0.68539326, 0.69101124]),\n",
       " 'AB': array([0.79888268, 0.78089888, 0.85955056, 0.82022472, 0.8258427 ]),\n",
       " 'XGB': array([0.81564246, 0.82022472, 0.87078652, 0.80898876, 0.85393258]),\n",
       " 'VC': array([0.83240223, 0.8258427 , 0.84831461, 0.80898876, 0.84269663])}"
      ]
     },
     "execution_count": 68,
     "metadata": {},
     "output_type": "execute_result"
    }
   ],
   "source": [
    "results"
   ]
  },
  {
   "cell_type": "code",
   "execution_count": null,
   "metadata": {},
   "outputs": [],
   "source": []
  }
 ],
 "metadata": {
  "kernelspec": {
   "display_name": "Python (MLbase)",
   "language": "python",
   "name": "mlbase"
  },
  "language_info": {
   "codemirror_mode": {
    "name": "ipython",
    "version": 3
   },
   "file_extension": ".py",
   "mimetype": "text/x-python",
   "name": "python",
   "nbconvert_exporter": "python",
   "pygments_lexer": "ipython3",
   "version": "3.8.1"
  }
 },
 "nbformat": 4,
 "nbformat_minor": 4
}
